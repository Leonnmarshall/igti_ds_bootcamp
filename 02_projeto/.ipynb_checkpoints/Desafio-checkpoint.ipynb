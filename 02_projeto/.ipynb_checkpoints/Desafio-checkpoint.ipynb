{
 "cells": [
  {
   "cell_type": "code",
   "execution_count": 52,
   "metadata": {},
   "outputs": [],
   "source": [
    "import sqlalchemy\n",
    "import pandas as pd\n",
    "import pymysql"
   ]
  },
  {
   "cell_type": "code",
   "execution_count": 39,
   "metadata": {},
   "outputs": [],
   "source": [
    "con  = sqlalchemy.create_engine('sqlite:///file.sql')"
   ]
  },
  {
   "cell_type": "code",
   "execution_count": 98,
   "metadata": {},
   "outputs": [],
   "source": [
    "\n",
    "# Create an engine to the baseql database\n",
    "# carregando a base de dados em sql\n",
    "engine = sqlalchemy.create_engine('mysql+pymysql://root@127.0.0.1:3307/baseql')\n",
    "# essa parte do codigo pode ser que não funcione na sua maquina, pois precisa do servidor mysql estar instalado\n",
    "# e a database tem que ter o mesmo nome nesse caso \"baseql\" (criatividade passou longe)\n",
    "\n",
    "# conectando com o localhost\n",
    "con = engine.connect() \n"
   ]
  },
  {
   "cell_type": "code",
   "execution_count": 100,
   "metadata": {},
   "outputs": [
    {
     "name": "stdout",
     "output_type": "stream",
     "text": [
      "['DEPARTAMENTO', 'DEPENDENTE', 'DEPTO_LOCALIZACOES', 'EMPREGADO', 'PROJETO', 'TRABALHA_EM']\n"
     ]
    }
   ],
   "source": [
    "# Print the table names\n",
    "print(engine.table_names())\n"
   ]
  },
  {
   "cell_type": "code",
   "execution_count": 101,
   "metadata": {},
   "outputs": [],
   "source": [
    "df = pd.read_sql_table('DEPARTAMENTO', con) # carregando a Tabela departamento do base de dados "
   ]
  },
  {
   "cell_type": "code",
   "execution_count": null,
   "metadata": {},
   "outputs": [],
   "source": []
  }
 ],
 "metadata": {
  "kernelspec": {
   "display_name": "Python 3",
   "language": "python",
   "name": "python3"
  },
  "language_info": {
   "codemirror_mode": {
    "name": "ipython",
    "version": 3
   },
   "file_extension": ".py",
   "mimetype": "text/x-python",
   "name": "python",
   "nbconvert_exporter": "python",
   "pygments_lexer": "ipython3",
   "version": "3.7.6"
  }
 },
 "nbformat": 4,
 "nbformat_minor": 4
}
